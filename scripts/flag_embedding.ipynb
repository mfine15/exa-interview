{
 "cells": [
  {
   "cell_type": "code",
   "execution_count": 8,
   "metadata": {},
   "outputs": [
    {
     "name": "stdout",
     "output_type": "stream",
     "text": [
      "0 // 101092\n",
      "100000 // 101092\n",
      "0\n"
     ]
    }
   ],
   "source": [
    "from tqdm import tqdm\n",
    "import pickle\n",
    "from datasets import load_dataset\n",
    "\n",
    "dataset = load_dataset(\"ms_marco\", \"v2.1\", split=\"test\")\n",
    "\n",
    "rows = []\n",
    "for i,row in enumerate(dataset):\n",
    "    if i%100000 == 0:\n",
    "        print(f\"{i} // {len(dataset)}\")\n",
    "    if row[\"answers\"] == []:\n",
    "        continue\n",
    "    answer = row[\"answers\"][0]\n",
    "    positives = []\n",
    "    negatives = []\n",
    "    for i in range(len(row[\"passages\"][\"passage_text\"])):\n",
    "        if row[\"passages\"][\"is_selected\"][i] == 1:\n",
    "            positives.append(row[\"passages\"][\"passage_text\"][i])\n",
    "        else:\n",
    "            negatives.append(row[\"passages\"][\"passage_text\"][i])\n",
    "    rows.append({\"query\": row[\"query\"], \"pos\": positives, \"neg\": negatives})\n",
    "\n",
    "print(len(rows))\n",
    "    \n",
    "import json\n",
    "\n",
    "with open('ms-marco-flag_embedding_test.json', 'w') as outfile:\n",
    "    for row in rows:\n",
    "        if row[\"pos\"] and row[\"neg\"]:\n",
    "            json.dump(row, outfile)\n",
    "            outfile.write('\\n')\n",
    "       \n"
   ]
  },
  {
   "cell_type": "code",
   "execution_count": 3,
   "metadata": {},
   "outputs": [
    {
     "name": "stdout",
     "output_type": "stream",
     "text": [
      "Filtered 502938 // 808731 entries with non-empty positive and negative values.\n"
     ]
    }
   ],
   "source": [
    "import json\n",
    "\n",
    "filtered_rows = []\n",
    "with open('ms-marco-flag_embedding.json', 'r') as infile, open('ms-marco-flag_embedding_filtered.json', 'w') as outfile:\n",
    "    count = 0\n",
    "    for line in infile:\n",
    "        count += 1\n",
    "        row = json.loads(line)\n",
    "        if row[\"pos\"] and row[\"neg\"]:  # Ensure both positive and negative values are non-empty\n",
    "            json.dump(row, outfile)\n",
    "            outfile.write('\\n')\n",
    "            filtered_rows.append(row)\n",
    "\n",
    "    print(f\"Filtered {len(filtered_rows)} // {count} entries with non-empty positive and negative values.\")\n"
   ]
  },
  {
   "cell_type": "code",
   "execution_count": 5,
   "metadata": {},
   "outputs": [
    {
     "data": {
      "text/plain": [
       "tensor([0, 1, 2, 3, 4, 5, 6, 7, 8, 9])"
      ]
     },
     "execution_count": 5,
     "metadata": {},
     "output_type": "execute_result"
    }
   ],
   "source": [
    "import torch\n",
    "torch.arange(10)"
   ]
  },
  {
   "cell_type": "code",
   "execution_count": null,
   "metadata": {},
   "outputs": [],
   "source": []
  }
 ],
 "metadata": {
  "kernelspec": {
   "display_name": "Python 3",
   "language": "python",
   "name": "python3"
  },
  "language_info": {
   "codemirror_mode": {
    "name": "ipython",
    "version": 3
   },
   "file_extension": ".py",
   "mimetype": "text/x-python",
   "name": "python",
   "nbconvert_exporter": "python",
   "pygments_lexer": "ipython3",
   "version": "3.8.10"
  }
 },
 "nbformat": 4,
 "nbformat_minor": 2
}
